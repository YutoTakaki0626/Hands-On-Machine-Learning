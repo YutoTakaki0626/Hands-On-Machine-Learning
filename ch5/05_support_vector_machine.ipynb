{
 "cells": [
  {
   "cell_type": "code",
   "execution_count": 1,
   "id": "d6246016-7ca8-4937-9cc3-fd41b55b0f1f",
   "metadata": {},
   "outputs": [],
   "source": [
    "# Python ≥3.5 is required\n",
    "import sys\n",
    "assert sys.version_info >= (3, 5)\n",
    "\n",
    "# Scikit-Learn ≥0.20 is required\n",
    "import sklearn\n",
    "assert sklearn.__version__ >= \"0.20\"\n",
    "\n",
    "# Common imports\n",
    "import numpy as np\n",
    "import os\n",
    "\n",
    "# to make this notebook's output stable across runs\n",
    "np.random.seed(42)\n",
    "\n",
    "# To plot pretty figures\n",
    "%matplotlib inline\n",
    "import matplotlib as mpl\n",
    "import matplotlib.pyplot as plt\n",
    "mpl.rc('axes', labelsize=14)\n",
    "mpl.rc('xtick', labelsize=12)\n",
    "mpl.rc('ytick', labelsize=12)\n",
    "\n",
    "# Where to save the figures\n",
    "PROJECT_ROOT_DIR = \".\"\n",
    "CHAPTER_ID = \"svm\"\n",
    "IMAGES_PATH = os.path.join(PROJECT_ROOT_DIR, \"images\", CHAPTER_ID)\n",
    "os.makedirs(IMAGES_PATH, exist_ok=True)\n",
    "\n",
    "def save_fig(fig_id, tight_layout=True, fig_extension=\"png\", resolution=300):\n",
    "    path = os.path.join(IMAGES_PATH, fig_id + \".\" + fig_extension)\n",
    "    print(\"Saving figure\", fig_id)\n",
    "    if tight_layout:\n",
    "        plt.tight_layout()\n",
    "    plt.savefig(path, format=fig_extension, dpi=resolution)"
   ]
  },
  {
   "cell_type": "markdown",
   "id": "8619d67c-6000-4241-8e53-855cae03812a",
   "metadata": {},
   "source": [
    "# サポートベクトルマシーン"
   ]
  },
  {
   "cell_type": "markdown",
   "id": "7c410b85-19b1-44ca-8fac-b592118f0bc5",
   "metadata": {},
   "source": [
    "## ・ ソフトマージン分類"
   ]
  },
  {
   "cell_type": "code",
   "execution_count": 2,
   "id": "849bca7c-c6ed-4add-a2ae-a2084c4a895a",
   "metadata": {},
   "outputs": [
    {
     "data": {
      "text/plain": [
       "Pipeline(steps=[('scaler', StandardScaler()),\n",
       "                ('linear_svc', LinearSVC(C=1, loss='hinge', random_state=42))])"
      ]
     },
     "execution_count": 2,
     "metadata": {},
     "output_type": "execute_result"
    }
   ],
   "source": [
    "from sklearn.svm import LinearSVC\n",
    "from sklearn.preprocessing import StandardScaler\n",
    "from sklearn.pipeline import Pipeline\n",
    "from sklearn import datasets\n",
    "import numpy as np\n",
    "\n",
    "iris = datasets.load_iris()\n",
    "X = iris['data'][:, 2:]\n",
    "y = (iris['target'] == 2).astype(np.float64)\n",
    "\n",
    "svm_clf = Pipeline([\n",
    "    ('scaler', StandardScaler()),\n",
    "    ('linear_svc', LinearSVC(C=1, loss='hinge', random_state=42))\n",
    "])\n",
    "\n",
    "svm_clf.fit(X, y)"
   ]
  },
  {
   "cell_type": "code",
   "execution_count": 3,
   "id": "a07088bd-aad8-417a-8acc-848dad381cad",
   "metadata": {},
   "outputs": [
    {
     "data": {
      "text/plain": [
       "array([1.])"
      ]
     },
     "execution_count": 3,
     "metadata": {},
     "output_type": "execute_result"
    }
   ],
   "source": [
    "svm_clf.predict([[5.5, 1.7]])"
   ]
  },
  {
   "cell_type": "markdown",
   "id": "ae083a35-7b58-498e-bcf9-864902bdb5e6",
   "metadata": {},
   "source": [
    "## ・ 非線形SVM分類器"
   ]
  },
  {
   "cell_type": "code",
   "execution_count": 6,
   "id": "db27bb8e-8d05-4bec-92e7-b91deeed12e5",
   "metadata": {},
   "outputs": [
    {
     "data": {
      "text/plain": [
       "Pipeline(steps=[('poly_features', PolynomialFeatures(degree=3)),\n",
       "                ('scaler', StandardScaler()),\n",
       "                ('svm_clf', LinearSVC(C=10, loss='hinge'))])"
      ]
     },
     "execution_count": 6,
     "metadata": {},
     "output_type": "execute_result"
    }
   ],
   "source": [
    "from sklearn.svm import LinearSVC\n",
    "from sklearn.datasets import make_moons\n",
    "from sklearn.pipeline import Pipeline\n",
    "from sklearn.preprocessing import PolynomialFeatures\n",
    "\n",
    "X, y = make_moons(n_samples=100, noise=0.15)\n",
    "polynomial_svm_clf = Pipeline([\n",
    "    ('poly_features', PolynomialFeatures(degree=3)),\n",
    "    ('scaler', StandardScaler()),\n",
    "    ('svm_clf', LinearSVC(C=10, loss='hinge'))\n",
    "])\n",
    "polynomial_svm_clf.fit(X, y)"
   ]
  },
  {
   "cell_type": "code",
   "execution_count": 8,
   "id": "f7f38e87-1678-430f-9af9-06433b9d4259",
   "metadata": {},
   "outputs": [
    {
     "data": {
      "text/plain": [
       "Pipeline(steps=[('scaler', StandardScaler()),\n",
       "                ('svm_clf', SVC(C=5, coef0=100, degree=10, kernel='poly'))])"
      ]
     },
     "execution_count": 8,
     "metadata": {},
     "output_type": "execute_result"
    }
   ],
   "source": [
    "from sklearn.svm import SVC\n",
    "\n",
    "poly_kernel_svm_clf = Pipeline([\n",
    "    ('scaler', StandardScaler()),\n",
    "    ('svm_clf', SVC(kernel=\"poly\", degree=10, coef0=100, C=5))\n",
    "])\n",
    "\n",
    "poly_kernel_svm_clf.fit(X, y)"
   ]
  },
  {
   "cell_type": "code",
   "execution_count": 9,
   "id": "139f8162-d2c4-496a-9d64-799e64e166af",
   "metadata": {},
   "outputs": [
    {
     "data": {
      "text/plain": [
       "Pipeline(steps=[('scaler', StandardScaler()),\n",
       "                ('svm_clf', SVC(C=0.001, gamma=5))])"
      ]
     },
     "execution_count": 9,
     "metadata": {},
     "output_type": "execute_result"
    }
   ],
   "source": [
    "from sklearn.svm import SVC\n",
    "\n",
    "rbf_kernel_svm_clf = Pipeline([\n",
    "    ('scaler', StandardScaler()),\n",
    "    ('svm_clf', SVC(kernel=\"rbf\", gamma=5, C=0.001))\n",
    "])\n",
    "\n",
    "rbf_kernel_svm_clf.fit(X, y)"
   ]
  },
  {
   "cell_type": "markdown",
   "id": "7d92b790-39be-4701-b3f5-77fa5e69e374",
   "metadata": {},
   "source": [
    "# サポートベクトル回帰"
   ]
  },
  {
   "cell_type": "code",
   "execution_count": 11,
   "id": "31c1ef8c-364b-4137-b198-339588f5b33d",
   "metadata": {},
   "outputs": [],
   "source": [
    "np.random.seed(42)\n",
    "m = 50\n",
    "X = 2 * np.random.rand(m, 1)\n",
    "y = (4 + 3 * X + np.random.randn(m, 1)).ravel()"
   ]
  },
  {
   "cell_type": "code",
   "execution_count": 12,
   "id": "339f319e-0bd0-4fb7-bd13-d2416014ce65",
   "metadata": {},
   "outputs": [
    {
     "data": {
      "text/plain": [
       "LinearSVR(epsilon=1.5, random_state=42)"
      ]
     },
     "execution_count": 12,
     "metadata": {},
     "output_type": "execute_result"
    }
   ],
   "source": [
    "from sklearn.svm import LinearSVR\n",
    "\n",
    "svm_reg = LinearSVR(epsilon=1.5, random_state=42)\n",
    "svm_reg.fit(X, y)"
   ]
  },
  {
   "cell_type": "code",
   "execution_count": 13,
   "id": "134ea1ed-2528-41ea-a580-ce37f1df9e72",
   "metadata": {},
   "outputs": [
    {
     "data": {
      "text/plain": [
       "SVR(C=100, degree=2, kernel='poly')"
      ]
     },
     "execution_count": 13,
     "metadata": {},
     "output_type": "execute_result"
    }
   ],
   "source": [
    "from sklearn.svm import SVR\n",
    "\n",
    "svm_poly_reg = SVR(kernel=\"poly\", degree=2, C=100, epsilon=0.1, gamma=\"scale\")\n",
    "svm_poly_reg.fit(X, y)"
   ]
  },
  {
   "cell_type": "markdown",
   "id": "7a3ef4f7-5ba9-47aa-9163-fe054a8e0517",
   "metadata": {},
   "source": [
    "# 演習問題"
   ]
  },
  {
   "cell_type": "markdown",
   "id": "d5b2b7c3-8f3a-4045-b213-704a8f172433",
   "metadata": {},
   "source": [
    "## 8"
   ]
  },
  {
   "cell_type": "code",
   "execution_count": 15,
   "id": "154034a1-08ab-498f-b86a-dd5922e587b5",
   "metadata": {},
   "outputs": [],
   "source": [
    "from sklearn import datasets\n",
    "\n",
    "iris = datasets.load_iris()\n",
    "X = iris['data'][:,2:]\n",
    "y = iris['target']\n",
    "\n",
    "setosa_or_versicolor = (y == 0) | (y == 1)\n",
    "X = X[setosa_or_versicolor]\n",
    "y = y[setosa_or_versicolor]"
   ]
  },
  {
   "cell_type": "code",
   "execution_count": 32,
   "id": "b884ab95-f0ce-4b8a-966d-9d9aa804048c",
   "metadata": {},
   "outputs": [
    {
     "name": "stdout",
     "output_type": "stream",
     "text": [
      "LinearSVC 切片:[0.28475098] 重み:[1.05364854 1.09903804]\n",
      "SVC 切片:[0.31896852] 重み:[1.1203284  1.02625193]\n",
      "SGD 切片:[0.117] 重み:[0.77329771 0.72706752]\n"
     ]
    }
   ],
   "source": [
    "from sklearn.svm import SVC, LinearSVC\n",
    "from sklearn.linear_model import SGDClassifier\n",
    "from sklearn.preprocessing import StandardScaler\n",
    "\n",
    "C = 5\n",
    "alpha = 1 / (C * len(X))\n",
    "\n",
    "lin_clf = LinearSVC(loss='hinge', C=C, random_state=42)\n",
    "svm_clf = SVC(kernel='linear', C=C)\n",
    "sgd_clf = SGDClassifier(loss='hinge', learning_rate='constant', eta0=0.001, )\n",
    "\n",
    "scaler = StandardScaler()\n",
    "X_scaled = scaler.fit_transform(X)\n",
    "\n",
    "lin_clf.fit(X_scaled, y)\n",
    "svm_clf.fit(X_scaled, y)\n",
    "sgd_clf.fit(X_scaled, y)\n",
    "\n",
    "print('LinearSVC 切片:{} 重み:{}'.format(lin_clf.intercept_, *lin_clf.coef_))\n",
    "print('SVC 切片:{} 重み:{}'.format(svm_clf.intercept_, *svm_clf.coef_))\n",
    "print('SGD 切片:{} 重み:{}'.format(sgd_clf.intercept_, *sgd_clf.coef_))"
   ]
  },
  {
   "cell_type": "markdown",
   "id": "78d1c1c0-c9a1-4de2-b7dc-4271ad3c7648",
   "metadata": {},
   "source": [
    "## 9"
   ]
  },
  {
   "cell_type": "code",
   "execution_count": 33,
   "id": "85b6cfaa-8fb9-4a13-bce5-586c7668797b",
   "metadata": {},
   "outputs": [],
   "source": [
    "from sklearn.datasets import fetch_openml\n",
    "mnist = fetch_openml('mnist_784', version=1, cache=True, as_frame=False)\n",
    "\n",
    "X = mnist[\"data\"]\n",
    "y = mnist[\"target\"].astype(np.uint8)\n",
    "\n",
    "X_train = X[:60000]\n",
    "y_train = y[:60000]\n",
    "X_test = X[60000:]\n",
    "y_test = y[60000:]"
   ]
  },
  {
   "cell_type": "code",
   "execution_count": 36,
   "id": "018e0919-974e-4a9f-99a8-6ca400150f23",
   "metadata": {},
   "outputs": [
    {
     "name": "stderr",
     "output_type": "stream",
     "text": [
      "/Users/yuto/opt/anaconda3/envs/py3-TF2.0/lib/python3.7/site-packages/sklearn/svm/_base.py:977: ConvergenceWarning: Liblinear failed to converge, increase the number of iterations.\n",
      "  \"the number of iterations.\", ConvergenceWarning)\n"
     ]
    },
    {
     "data": {
      "text/plain": [
       "LinearSVC(random_state=42)"
      ]
     },
     "execution_count": 36,
     "metadata": {},
     "output_type": "execute_result"
    }
   ],
   "source": [
    "lin_clf = LinearSVC(random_state=42)\n",
    "lin_clf.fit(X_train, y_train)"
   ]
  },
  {
   "cell_type": "code",
   "execution_count": 37,
   "id": "f09ad4b6-7a41-4367-b900-93a90273da63",
   "metadata": {},
   "outputs": [
    {
     "data": {
      "text/plain": [
       "0.8348666666666666"
      ]
     },
     "execution_count": 37,
     "metadata": {},
     "output_type": "execute_result"
    }
   ],
   "source": [
    "from sklearn.metrics import accuracy_score\n",
    "\n",
    "y_pred = lin_clf.predict(X_train)\n",
    "accuracy_score(y_train, y_pred)"
   ]
  },
  {
   "cell_type": "code",
   "execution_count": 41,
   "id": "01d97f88-c746-4597-90c6-9cf323facec3",
   "metadata": {},
   "outputs": [
    {
     "name": "stderr",
     "output_type": "stream",
     "text": [
      "/Users/yuto/opt/anaconda3/envs/py3-TF2.0/lib/python3.7/site-packages/sklearn/svm/_base.py:977: ConvergenceWarning: Liblinear failed to converge, increase the number of iterations.\n",
      "  \"the number of iterations.\", ConvergenceWarning)\n"
     ]
    },
    {
     "data": {
      "text/plain": [
       "0.9217333333333333"
      ]
     },
     "execution_count": 41,
     "metadata": {},
     "output_type": "execute_result"
    }
   ],
   "source": [
    "scaler = StandardScaler()\n",
    "X_train_scaled = scaler.fit_transform(X_train.astype(np.float32))\n",
    "X_test_scaled = scaler.transform(X_test.astype(np.float32))\n",
    "\n",
    "lin_clf = LinearSVC(random_state=42)\n",
    "lin_clf.fit(X_train_scaled, y_train)\n",
    "\n",
    "y_pred = lin_clf.predict(X_train_scaled)\n",
    "accuracy_score(y_train, y_pred)"
   ]
  },
  {
   "cell_type": "code",
   "execution_count": 42,
   "id": "7d7370b2-0c5f-4591-93e3-e7813e8ee5bd",
   "metadata": {},
   "outputs": [
    {
     "data": {
      "text/plain": [
       "0.9455333333333333"
      ]
     },
     "execution_count": 42,
     "metadata": {},
     "output_type": "execute_result"
    }
   ],
   "source": [
    "svm_clf = SVC(gamma=\"scale\")\n",
    "svm_clf.fit(X_train_scaled[:10000], y_train[:10000])\n",
    "\n",
    "y_pred = svm_clf.predict(X_train_scaled)\n",
    "accuracy_score(y_train, y_pred)"
   ]
  },
  {
   "cell_type": "code",
   "execution_count": 43,
   "id": "3bffcacc-db2f-458c-acf5-474b1c56eac5",
   "metadata": {},
   "outputs": [
    {
     "name": "stdout",
     "output_type": "stream",
     "text": [
      "Fitting 3 folds for each of 10 candidates, totalling 30 fits\n",
      "[CV] C=4.180034749718638, gamma=0.0016599837974449214 ................\n"
     ]
    },
    {
     "name": "stderr",
     "output_type": "stream",
     "text": [
      "[Parallel(n_jobs=1)]: Using backend SequentialBackend with 1 concurrent workers.\n"
     ]
    },
    {
     "name": "stdout",
     "output_type": "stream",
     "text": [
      "[CV] . C=4.180034749718638, gamma=0.0016599837974449214, total=   0.8s\n",
      "[CV] C=4.180034749718638, gamma=0.0016599837974449214 ................\n"
     ]
    },
    {
     "name": "stderr",
     "output_type": "stream",
     "text": [
      "[Parallel(n_jobs=1)]: Done   1 out of   1 | elapsed:    0.8s remaining:    0.0s\n"
     ]
    },
    {
     "name": "stdout",
     "output_type": "stream",
     "text": [
      "[CV] . C=4.180034749718638, gamma=0.0016599837974449214, total=   0.8s\n",
      "[CV] C=4.180034749718638, gamma=0.0016599837974449214 ................\n",
      "[CV] . C=4.180034749718638, gamma=0.0016599837974449214, total=   0.8s\n",
      "[CV] C=3.279351625419417, gamma=0.007148510793512982 .................\n",
      "[CV] .. C=3.279351625419417, gamma=0.007148510793512982, total=   1.0s\n",
      "[CV] C=3.279351625419417, gamma=0.007148510793512982 .................\n",
      "[CV] .. C=3.279351625419417, gamma=0.007148510793512982, total=   1.0s\n",
      "[CV] C=3.279351625419417, gamma=0.007148510793512982 .................\n",
      "[CV] .. C=3.279351625419417, gamma=0.007148510793512982, total=   1.0s\n",
      "[CV] C=9.18014765922493, gamma=0.05265761277157425 ...................\n",
      "[CV] .... C=9.18014765922493, gamma=0.05265761277157425, total=   1.0s\n",
      "[CV] C=9.18014765922493, gamma=0.05265761277157425 ...................\n",
      "[CV] .... C=9.18014765922493, gamma=0.05265761277157425, total=   1.0s\n",
      "[CV] C=9.18014765922493, gamma=0.05265761277157425 ...................\n",
      "[CV] .... C=9.18014765922493, gamma=0.05265761277157425, total=   1.0s\n",
      "[CV] C=1.069521305311907, gamma=0.010507384024181395 .................\n",
      "[CV] .. C=1.069521305311907, gamma=0.010507384024181395, total=   1.0s\n",
      "[CV] C=1.069521305311907, gamma=0.010507384024181395 .................\n",
      "[CV] .. C=1.069521305311907, gamma=0.010507384024181395, total=   1.0s\n",
      "[CV] C=1.069521305311907, gamma=0.010507384024181395 .................\n",
      "[CV] .. C=1.069521305311907, gamma=0.010507384024181395, total=   1.0s\n",
      "[CV] C=5.17411003148779, gamma=0.0027810936979265535 .................\n",
      "[CV] .. C=5.17411003148779, gamma=0.0027810936979265535, total=   0.9s\n",
      "[CV] C=5.17411003148779, gamma=0.0027810936979265535 .................\n",
      "[CV] .. C=5.17411003148779, gamma=0.0027810936979265535, total=   0.9s\n",
      "[CV] C=5.17411003148779, gamma=0.0027810936979265535 .................\n",
      "[CV] .. C=5.17411003148779, gamma=0.0027810936979265535, total=   0.9s\n",
      "[CV] C=2.1986536733368283, gamma=0.00473402277340419 .................\n",
      "[CV] .. C=2.1986536733368283, gamma=0.00473402277340419, total=   1.0s\n",
      "[CV] C=2.1986536733368283, gamma=0.00473402277340419 .................\n",
      "[CV] .. C=2.1986536733368283, gamma=0.00473402277340419, total=   1.0s\n",
      "[CV] C=2.1986536733368283, gamma=0.00473402277340419 .................\n",
      "[CV] .. C=2.1986536733368283, gamma=0.00473402277340419, total=   1.0s\n",
      "[CV] C=10.429097039125192, gamma=0.004430021806767982 ................\n",
      "[CV] . C=10.429097039125192, gamma=0.004430021806767982, total=   1.0s\n",
      "[CV] C=10.429097039125192, gamma=0.004430021806767982 ................\n",
      "[CV] . C=10.429097039125192, gamma=0.004430021806767982, total=   1.0s\n",
      "[CV] C=10.429097039125192, gamma=0.004430021806767982 ................\n",
      "[CV] . C=10.429097039125192, gamma=0.004430021806767982, total=   1.0s\n",
      "[CV] C=6.187906217433661, gamma=0.02547052623339116 ..................\n",
      "[CV] ... C=6.187906217433661, gamma=0.02547052623339116, total=   1.0s\n",
      "[CV] C=6.187906217433661, gamma=0.02547052623339116 ..................\n",
      "[CV] ... C=6.187906217433661, gamma=0.02547052623339116, total=   1.0s\n",
      "[CV] C=6.187906217433661, gamma=0.02547052623339116 ..................\n",
      "[CV] ... C=6.187906217433661, gamma=0.02547052623339116, total=   1.0s\n",
      "[CV] C=4.63629602379294, gamma=0.08781408196485974 ...................\n",
      "[CV] .... C=4.63629602379294, gamma=0.08781408196485974, total=   1.0s\n",
      "[CV] C=4.63629602379294, gamma=0.08781408196485974 ...................\n",
      "[CV] .... C=4.63629602379294, gamma=0.08781408196485974, total=   1.0s\n",
      "[CV] C=4.63629602379294, gamma=0.08781408196485974 ...................\n",
      "[CV] .... C=4.63629602379294, gamma=0.08781408196485974, total=   1.1s\n",
      "[CV] C=10.624472949421111, gamma=0.0031883397351001866 ...............\n",
      "[CV]  C=10.624472949421111, gamma=0.0031883397351001866, total=   0.9s\n",
      "[CV] C=10.624472949421111, gamma=0.0031883397351001866 ...............\n",
      "[CV]  C=10.624472949421111, gamma=0.0031883397351001866, total=   0.9s\n",
      "[CV] C=10.624472949421111, gamma=0.0031883397351001866 ...............\n",
      "[CV]  C=10.624472949421111, gamma=0.0031883397351001866, total=   0.9s\n"
     ]
    },
    {
     "name": "stderr",
     "output_type": "stream",
     "text": [
      "[Parallel(n_jobs=1)]: Done  30 out of  30 | elapsed:   28.7s finished\n"
     ]
    },
    {
     "data": {
      "text/plain": [
       "RandomizedSearchCV(cv=3, estimator=SVC(),\n",
       "                   param_distributions={'C': <scipy.stats._distn_infrastructure.rv_frozen object at 0x7fc33af3f990>,\n",
       "                                        'gamma': <scipy.stats._distn_infrastructure.rv_frozen object at 0x7fc33af3f490>},\n",
       "                   verbose=2)"
      ]
     },
     "execution_count": 43,
     "metadata": {},
     "output_type": "execute_result"
    }
   ],
   "source": [
    "from sklearn.model_selection import RandomizedSearchCV\n",
    "from scipy.stats import reciprocal, uniform\n",
    "\n",
    "param_distributions = {\"gamma\": reciprocal(0.001, 0.1), \"C\": uniform(1, 10)}\n",
    "rnd_search_cv = RandomizedSearchCV(svm_clf, param_distributions, n_iter=10, verbose=2, cv=3)\n",
    "rnd_search_cv.fit(X_train_scaled[:1000], y_train[:1000])"
   ]
  },
  {
   "cell_type": "code",
   "execution_count": 44,
   "id": "2e419fc3-6d70-4460-916b-c107fa49fd01",
   "metadata": {},
   "outputs": [
    {
     "data": {
      "text/plain": [
       "SVC(C=4.180034749718638, gamma=0.0016599837974449214)"
      ]
     },
     "execution_count": 44,
     "metadata": {},
     "output_type": "execute_result"
    }
   ],
   "source": [
    "rnd_search_cv.best_estimator_"
   ]
  },
  {
   "cell_type": "code",
   "execution_count": 45,
   "id": "5262ac30-c2e5-4868-b34a-c2fd7644fe2b",
   "metadata": {},
   "outputs": [
    {
     "data": {
      "text/plain": [
       "0.8609957262651874"
      ]
     },
     "execution_count": 45,
     "metadata": {},
     "output_type": "execute_result"
    }
   ],
   "source": [
    "rnd_search_cv.best_score_"
   ]
  },
  {
   "cell_type": "code",
   "execution_count": 46,
   "id": "bc3f7973-f308-45ec-9c08-c1f9f3a09bf4",
   "metadata": {},
   "outputs": [
    {
     "data": {
      "text/plain": [
       "SVC(C=4.180034749718638, gamma=0.0016599837974449214)"
      ]
     },
     "execution_count": 46,
     "metadata": {},
     "output_type": "execute_result"
    }
   ],
   "source": [
    "rnd_search_cv.best_estimator_.fit(X_train_scaled, y_train)"
   ]
  },
  {
   "cell_type": "code",
   "execution_count": 47,
   "id": "78df9827-d898-4801-86e4-3f1ddf17d769",
   "metadata": {},
   "outputs": [
    {
     "data": {
      "text/plain": [
       "0.9978666666666667"
      ]
     },
     "execution_count": 47,
     "metadata": {},
     "output_type": "execute_result"
    }
   ],
   "source": [
    "y_pred = rnd_search_cv.best_estimator_.predict(X_train_scaled)\n",
    "accuracy_score(y_train, y_pred)"
   ]
  },
  {
   "cell_type": "code",
   "execution_count": null,
   "id": "abf9169a-6104-4a57-a4ce-020c1f751ba8",
   "metadata": {},
   "outputs": [],
   "source": [
    "y_pred = rnd_search_cv.best_estimator_.predict(X_test_scaled)\n",
    "accuracy_score(y_test, y_pred)"
   ]
  },
  {
   "cell_type": "code",
   "execution_count": null,
   "id": "39afa7a3-1994-4000-949b-17fd87e7dc3a",
   "metadata": {},
   "outputs": [],
   "source": []
  }
 ],
 "metadata": {
  "kernelspec": {
   "display_name": "Python 3",
   "language": "python",
   "name": "python3"
  },
  "language_info": {
   "codemirror_mode": {
    "name": "ipython",
    "version": 3
   },
   "file_extension": ".py",
   "mimetype": "text/x-python",
   "name": "python",
   "nbconvert_exporter": "python",
   "pygments_lexer": "ipython3",
   "version": "3.7.10"
  }
 },
 "nbformat": 4,
 "nbformat_minor": 5
}
